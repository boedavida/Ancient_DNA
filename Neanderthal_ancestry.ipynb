{
 "cells": [
  {
   "cell_type": "markdown",
   "metadata": {},
   "source": [
    "This code was inspired by the report on a fossil named \"Oase1\" in the reference Fu, Q., et. al. The Genetic History of Ice Age Europe. Nature, May 2016. Oase1 is a modern human fossil mandible (jaw bone) found in Peştera cu Oase, Romania that is dated at 37,000–42,000 years old, which is at a time in which modern humans and Neanderthals overlapped in Europe near the times of both the first appearance of modern humans in Europe and the end of the time range of Neanderthals. Oase1 was a modern human but had a high percentage of Neanderthal DNA, about 10% of the genome. It is fascinating that a human fossil was found that had such recent Neanderthal ancestry. This code--either the Python file or the Jupyter notebook--estimates the number of generations that Oase1 was from a direct Neanderthal ancestor. By changing the values of the variables, this code can be used similarly for other ancient human fossils with Neanderthal ancestry. "
   ]
  },
  {
   "cell_type": "code",
   "execution_count": null,
   "metadata": {},
   "outputs": [],
   "source": [
    "fossil_name = \"Oase1\"  # 37,000–42,000-year-old modern human fossil from Peştera cu Oase, Romania\n",
    "fossil_percNeander = 0.099\n",
    "fossil_percNeander_err = 0.015\n",
    "modHumPop_avePercNeander = 0.05"
   ]
  },
  {
   "cell_type": "markdown",
   "metadata": {},
   "source": [
    "First generation: Offspring of mating between a Neanderthal and modern human"
   ]
  },
  {
   "cell_type": "code",
   "execution_count": null,
   "metadata": {},
   "outputs": [],
   "source": [
    "numGen = 1\n",
    "percNeanderthal = 1 / 2 + modHumPop_avePercNeander / 2\n",
    "print(f\"Proportion of Neanderthal ancestry in offspring of mating between a modern human and a Neanderthal = {percNeanderthal*100:.2f}%\")"
   ]
  },
  {
   "cell_type": "markdown",
   "metadata": {},
   "source": [
    "Subsequent generations with mating between descendant of previous generation and a modern human.\n",
    "Compute the lower bound:"
   ]
  },
  {
   "cell_type": "code",
   "execution_count": null,
   "metadata": {},
   "outputs": [],
   "source": [
    "while percNeanderthal > (fossil_percNeander + fossil_percNeander_err):\n",
    "    numGen += 1\n",
    "    percNeanderthal = percNeanderthal / 2 + modHumPop_avePercNeander / 2\n",
    "    print(f'Proportion of Neanderthal ancestry in the next generation = {percNeanderthal*100:.2f}%')\n",
    "lowerBound = numGen"
   ]
  },
  {
   "cell_type": "markdown",
   "metadata": {},
   "source": [
    "Compute the upper bound:"
   ]
  },
  {
   "cell_type": "code",
   "execution_count": null,
   "metadata": {},
   "outputs": [],
   "source": [
    "while percNeanderthal > (fossil_percNeander - fossil_percNeander_err):\n",
    "    numGen += 1\n",
    "    percNeanderthal = percNeanderthal / 2 + modHumPop_avePercNeander / 2\n",
    "    print(f'Proportion of Neanderthal ancestry in the next generation = {percNeanderthal*100:.2f}%')\n",
    "upperBound = numGen"
   ]
  },
  {
   "cell_type": "markdown",
   "metadata": {},
   "source": [
    "Output final result"
   ]
  },
  {
   "cell_type": "code",
   "execution_count": null,
   "metadata": {},
   "outputs": [],
   "source": [
    "if lowerBound == 1 and upperBound == 1:\n",
    "    print(f\"\\n{fossil_name}'s Neanderthal ancestor was {numGen} generation earlier\")\n",
    "elif lowerBound != 1 and upperBound != 1 and lowerBound == upperBound:\n",
    "    print(f\"\\n{fossil_name}'s Neanderthal ancestor was {numGen} generations earlier\")\n",
    "else:\n",
    "    print(f\"\\n{fossil_name}'s Neanderthal ancestor was from {lowerBound} to {upperBound} generations earlier\\n\")\n"
   ]
  }
 ],
 "metadata": {
  "interpreter": {
   "hash": "9dfc9ab332706d6192dcb72dd0174c31f4329147ebe353cea53ba3e5e6334d40"
  },
  "kernelspec": {
   "display_name": "Python 3.10.4 ('Sci_Eng_3_10')",
   "language": "python",
   "name": "python3"
  },
  "language_info": {
   "codemirror_mode": {
    "name": "ipython",
    "version": 3
   },
   "file_extension": ".py",
   "mimetype": "text/x-python",
   "name": "python",
   "nbconvert_exporter": "python",
   "pygments_lexer": "ipython3",
   "version": "3.10.4"
  },
  "orig_nbformat": 4
 },
 "nbformat": 4,
 "nbformat_minor": 2
}
